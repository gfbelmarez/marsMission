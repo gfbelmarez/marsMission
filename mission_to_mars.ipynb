{
 "cells": [
  {
   "cell_type": "code",
   "execution_count": 2,
   "metadata": {},
   "outputs": [],
   "source": [
    "import requests\n",
    "from bs4 import BeautifulSoup as bs\n",
    "import pandas as pd\n",
    "from splinter.browser import Browser"
   ]
  },
  {
   "cell_type": "markdown",
   "metadata": {},
   "source": [
    "#### Mars News"
   ]
  },
  {
   "cell_type": "code",
   "execution_count": 31,
   "metadata": {},
   "outputs": [],
   "source": [
    "def getMarsNews():\n",
    "    NASA_link = \"https://mars.nasa.gov/news/?page=0&per_page=40&order=publish_date+desc%2Ccreated_at+desc&search=&category=19%2C165%2C184%2C204&blank_scope=Latest\"\n",
    "    response = requests.get(NASA_link)\n",
    "    soup = bs(response.text)\n",
    "    latest_news = soup.find_all(\"div\", class_='slide')[0]\n",
    "    headline = latest_news.find(\"div\", class_='content_title').text.strip()\n",
    "    paragraph = latest_news.find(\"div\", class_='rollover_description_inner').text.strip()\n",
    "    news = {'headline': headline, 'paragraph': paragraph}\n",
    "    return news\n",
    "    "
   ]
  },
  {
   "cell_type": "markdown",
   "metadata": {},
   "source": [
    "#### Mars Image"
   ]
  },
  {
   "cell_type": "code",
   "execution_count": 35,
   "metadata": {},
   "outputs": [],
   "source": [
    "def getMarsFeaturedImage():\n",
    "    executable_path = {'executable_path': '/usr/local/bin/chromedriver'}\n",
    "    browser = Browser('chrome', **executable_path, headless=False)\n",
    "    image_site = 'https://www.jpl.nasa.gov/spaceimages/?search=&category=Mars'\n",
    "    browser.visit(image_site)\n",
    "    link = browser.find_by_id('full_image').first['data-fancybox-href']\n",
    "    featured_image_url = image_site + link\n",
    "    browser.close()\n",
    "    return featured_image_url"
   ]
  },
  {
   "cell_type": "markdown",
   "metadata": {},
   "source": [
    "#### Mars Weather"
   ]
  },
  {
   "cell_type": "code",
   "execution_count": 33,
   "metadata": {},
   "outputs": [],
   "source": [
    "def getMarsWeather():\n",
    "    mars_twitter = \"https://twitter.com/marswxreport?lang=en\"\n",
    "    response = requests.get(mars_twitter)\n",
    "    soup = bs(response.text)\n",
    "    latest_tweet = soup.find_all(\"div\", class_=\"content\")[0]\n",
    "    p = latest_tweet.find(\"p\", class_=\"TweetTextSize TweetTextSize--normal js-tweet-text tweet-text\")\n",
    "    mars_weather = p.text.strip()\n",
    "    return mars_weather"
   ]
  },
  {
   "cell_type": "markdown",
   "metadata": {},
   "source": [
    "#### Mars Facts"
   ]
  },
  {
   "cell_type": "code",
   "execution_count": 34,
   "metadata": {},
   "outputs": [],
   "source": [
    "def getMarsFacts():\n",
    "    mars_facts_site = \"https://space-facts.com/mars/\"\n",
    "    response = requests.get(mars_facts_site)\n",
    "    soup = bs(response.text)\n",
    "    table = soup.find(\"table\", id=\"tablepress-mars\")\n",
    "    mars_facts = pd.read_html(str(table))\n",
    "    return mars_facts"
   ]
  },
  {
   "cell_type": "markdown",
   "metadata": {},
   "source": [
    "#### Mars Hemispheres"
   ]
  },
  {
   "cell_type": "code",
   "execution_count": 45,
   "metadata": {},
   "outputs": [],
   "source": [
    "def getMarsHemispheres():\n",
    "    executable_path = {'executable_path': '/usr/local/bin/chromedriver'}\n",
    "    browser = Browser('chrome', **executable_path, headless=False)\n",
    "    image_site = 'https://astrogeology.usgs.gov/search/results?q=hemisphere+enhanced&k1=target&v1=Mars'\n",
    "    browser.visit(image_site)\n",
    "    hemisphere_image_urls = []\n",
    "    for item in browser.find_by_css('div[class=\"description\"]'):\n",
    "        title = item.find_by_css('h3').text\n",
    "        link = item.find_by_css('a')['href']\n",
    "        new_links = {'title':title, 'url': link}\n",
    "        hemisphere_image_urls.append(new_links)\n",
    "    return hemisphere_image_urls"
   ]
  },
  {
   "cell_type": "code",
   "execution_count": 48,
   "metadata": {},
   "outputs": [],
   "source": [
    "def getMarsData():\n",
    "    marsData = {}\n",
    "    marsData['news'] = getMarsNews()\n",
    "    marsData['featured_image'] = getMarsFeaturedImage()\n",
    "    marsData['weather'] = getMarsWeather()\n",
    "    marsData['facts'] = getMarsFacts()\n",
    "    marsData['hemispheres'] = getMarsHemispheres()\n",
    "    return marsData"
   ]
  },
  {
   "cell_type": "code",
   "execution_count": null,
   "metadata": {},
   "outputs": [],
   "source": []
  },
  {
   "cell_type": "code",
   "execution_count": null,
   "metadata": {},
   "outputs": [],
   "source": []
  }
 ],
 "metadata": {
  "kernelspec": {
   "display_name": "Python 3",
   "language": "python",
   "name": "python3"
  },
  "language_info": {
   "codemirror_mode": {
    "name": "ipython",
    "version": 3
   },
   "file_extension": ".py",
   "mimetype": "text/x-python",
   "name": "python",
   "nbconvert_exporter": "python",
   "pygments_lexer": "ipython3",
   "version": "3.6.8"
  }
 },
 "nbformat": 4,
 "nbformat_minor": 2
}
